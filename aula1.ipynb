{
  "nbformat": 4,
  "nbformat_minor": 0,
  "metadata": {
    "colab": {
      "name": "Untitled0.ipynb",
      "provenance": [],
      "collapsed_sections": [],
      "authorship_tag": "ABX9TyMCZCXbVhBHVLpaE2abZTON",
      "include_colab_link": true
    },
    "kernelspec": {
      "name": "python3",
      "display_name": "Python 3"
    }
  },
  "cells": [
    {
      "cell_type": "markdown",
      "metadata": {
        "id": "view-in-github",
        "colab_type": "text"
      },
      "source": [
        "<a href=\"https://colab.research.google.com/github/samukapsilva/ML/blob/main/aula1.ipynb\" target=\"_parent\"><img src=\"https://colab.research.google.com/assets/colab-badge.svg\" alt=\"Open In Colab\"/></a>"
      ]
    },
    {
      "cell_type": "code",
      "metadata": {
        "id": "o5O5rVpY0UDk",
        "outputId": "834da108-1d5c-40ee-bfb7-f768486d0925",
        "colab": {
          "base_uri": "https://localhost:8080/",
          "height": 52
        }
      },
      "source": [
        "#features (1 sim, 0 não)\n",
        "#pelo longo? \n",
        "#perna curta?\n",
        "#faz auau ?\n",
        "porco1 = [0,1,0]\n",
        "porco2 = [0,1,1]\n",
        "porco3 = [1,1,0]\n",
        "\n",
        "cao1 = [0,1,1]\n",
        "cao2 = [1,0,1]\n",
        "cao3 = [1,1,1]\n",
        "\n",
        "# 1=> porco, 0=> cao\n",
        "treino_x = [porco1, porco2, porco3, cao1, cao2, cao3]\n",
        "treino_y = [1,1,1,0,0,0] # labels / etiqueta\n",
        "\n",
        "# importando o estimador mais basico \n",
        "from sklearn.svm import LinearSVC\n",
        "\n",
        "model = LinearSVC()\n",
        "# linearSVC, aprende sobre esses dados !\n",
        "model.fit(treino_x, treino_y) \n",
        "\n",
        "animal_misterioso = [1,1,1]\n",
        "model.predict([animal_misterioso])\n",
        "\n",
        "animal1 = [1,1,1]\n",
        "animal2 = [0,0,0]\n",
        "animal3 = [1,0,1]\n",
        "\n",
        "teste_x = [animal1, animal2, animal3]\n",
        "teste_y = [0,1,1] # label para cada item\n",
        "\n",
        "previsoes = model.predict(teste_x)\n",
        "\n",
        "\n",
        "\n",
        "corretos = (previsoes == teste_y).sum()\n",
        "total = len(teste_x)\n",
        "taxa_acertos = corretos/total * 100\n",
        "print(\"Taxa de acerto %.2f \" % ( taxa_acertos))\n",
        "\n",
        "from sklearn.metrics import accuracy_score\n",
        "\n",
        "taxa_acertos = accuracy_score(teste_y, previsoes)\n",
        "print(\"Taxa de acerto %.2f\" % (taxa_acertos*100))"
      ],
      "execution_count": 18,
      "outputs": [
        {
          "output_type": "stream",
          "text": [
            "Taxa de acerto 66.67 \n",
            "Taxa de acerto 66.67\n"
          ],
          "name": "stdout"
        }
      ]
    },
    {
      "cell_type": "code",
      "metadata": {
        "id": "v-PxTwQ_2S9Z"
      },
      "source": [
        ""
      ],
      "execution_count": null,
      "outputs": []
    }
  ]
}