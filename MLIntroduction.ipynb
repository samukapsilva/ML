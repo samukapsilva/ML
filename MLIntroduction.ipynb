{
  "nbformat": 4,
  "nbformat_minor": 0,
  "metadata": {
    "colab": {
      "name": "MLIntroduction.ipynb",
      "provenance": [],
      "collapsed_sections": [],
      "authorship_tag": "ABX9TyOvoZW/DV/zrWVxpRQ/eol9",
      "include_colab_link": true
    },
    "kernelspec": {
      "name": "python3",
      "display_name": "Python 3"
    }
  },
  "cells": [
    {
      "cell_type": "markdown",
      "metadata": {
        "id": "view-in-github",
        "colab_type": "text"
      },
      "source": [
        "<a href=\"https://colab.research.google.com/github/samukapsilva/ML/blob/main/MLIntroduction.ipynb\" target=\"_parent\"><img src=\"https://colab.research.google.com/assets/colab-badge.svg\" alt=\"Open In Colab\"/></a>"
      ]
    },
    {
      "cell_type": "code",
      "metadata": {
        "id": "KYkD6DbBHjee",
        "outputId": "3fdf9452-b60b-4beb-8178-7e1c13c2153c",
        "colab": {
          "base_uri": "https://localhost:8080/",
          "height": 107
        }
      },
      "source": [
        "import pandas as pd\n",
        "uri =\"https://gist.githubusercontent.com/guilhermesilveira/2d2efa37d66b6c84a722ea627a897ced/raw/10968b997d885cbded1c92938c7a9912ba41c615/tracking.csv\"\n",
        "dados = pd.read_csv(uri)\n",
        "dados.head()\n",
        "\n",
        "x = dados[[\"home\", \"how_it_works\", \"contact\"]]\n",
        "y = dados[[\"bought\"]]\n",
        "\n",
        "y.head()\n",
        "\n",
        "mapa = {\n",
        "   \"home\":\"principal\",\n",
        "    \"how_it_works\":\"como_funciona\",\n",
        "    \"contact\":\"contato\",\n",
        "    \"bought\":\"comprou\"\n",
        "}\n",
        "\n",
        "dados = dados.rename(columns=mapa)\n",
        "\n",
        "x = dados[[\"principal\", \"como_funciona\", \"contato\"]]\n",
        "y =  dados[[\"comprou\"]]\n",
        "x.head()\n",
        "y.head()\n",
        "\n",
        "dados.shape\n",
        "\n",
        "treino_x = x[:75]\n",
        "treino_y = y[:75]\n",
        "\n",
        "teste_x = x[75:]\n",
        "teste_y = y[75:]\n",
        "\n",
        "print(\"treinaremos com %d elementos e testaremos com %d elementos\" % (len(treino_x),len(teste_x)))\n",
        "\n",
        "from sklearn.svm import LinearSVC\n",
        "from sklearn.metrics import accuracy_score\n",
        "\n",
        "modelo = LinearSVC()\n",
        "modelo.fit(treino_x, treino_y)\n",
        "\n",
        "previsoes = modelo.predict(teste_x)\n",
        "\n",
        "acuracia = accuracy_score(teste_y, previsoes) * 100\n",
        "\n",
        "print(\"A acurácia foi de %.2f%% \" % acuracia)\n"
      ],
      "execution_count": 39,
      "outputs": [
        {
          "output_type": "stream",
          "text": [
            "treinaremos com 75 elementos e testaremos com 24 elementos\n",
            "A acurácia foi de 95.83% \n"
          ],
          "name": "stdout"
        },
        {
          "output_type": "stream",
          "text": [
            "/usr/local/lib/python3.6/dist-packages/sklearn/utils/validation.py:760: DataConversionWarning: A column-vector y was passed when a 1d array was expected. Please change the shape of y to (n_samples, ), for example using ravel().\n",
            "  y = column_or_1d(y, warn=True)\n"
          ],
          "name": "stderr"
        }
      ]
    },
    {
      "cell_type": "code",
      "metadata": {
        "id": "fp11yLzFIZhj"
      },
      "source": [
        ""
      ],
      "execution_count": null,
      "outputs": []
    }
  ]
}